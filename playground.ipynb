{
  "cells": [
    {
      "cell_type": "code",
      "source": [
        "%load_ext autoreload\n",
        "%autoreload 2"
      ],
      "metadata": {
        "id": "oVkVW7unCTGz"
      },
      "execution_count": 1,
      "outputs": []
    },
    {
      "cell_type": "code",
      "source": [
        "import os"
      ],
      "metadata": {
        "id": "5zXNmccfLqJG"
      },
      "execution_count": 16,
      "outputs": []
    },
    {
      "cell_type": "code",
      "source": [
        "project = \"beneaththewater\"\n",
        "if os.path.isdir(project):\n",
        "  !rm -rf {project}\n",
        "!git clone https://github.com/hzxsunshine/beneaththewater.git"
      ],
      "metadata": {
        "id": "dD5k1_KeB6Y5",
        "colab": {
          "base_uri": "https://localhost:8080/"
        },
        "outputId": "5e8c61b7-324c-4b79-fbb9-363531508394"
      },
      "execution_count": 19,
      "outputs": [
        {
          "output_type": "stream",
          "name": "stdout",
          "text": [
            "Cloning into 'beneaththewater'...\n",
            "remote: Enumerating objects: 50, done.\u001b[K\n",
            "remote: Counting objects: 100% (50/50), done.\u001b[K\n",
            "remote: Compressing objects: 100% (26/26), done.\u001b[K\n",
            "remote: Total 50 (delta 18), reused 41 (delta 13), pack-reused 0\u001b[K\n",
            "Receiving objects: 100% (50/50), 10.70 KiB | 10.70 MiB/s, done.\n",
            "Resolving deltas: 100% (18/18), done.\n"
          ]
        }
      ]
    },
    {
      "cell_type": "code",
      "execution_count": 6,
      "metadata": {
        "id": "_gV7y9alAlVn"
      },
      "outputs": [],
      "source": [
        "import beneaththewater"
      ]
    },
    {
      "cell_type": "code",
      "execution_count": 7,
      "metadata": {
        "id": "xtCuzASBAlVo",
        "colab": {
          "base_uri": "https://localhost:8080/"
        },
        "outputId": "427cca9d-88cb-47f6-ff26-232168be6eae"
      },
      "outputs": [
        {
          "output_type": "stream",
          "name": "stderr",
          "text": [
            "Downloading...\n",
            "From: https://drive.google.com/uc?id=1Z5LKgmZmFRCQ6kZzHWTcV8gzeLcxHtXE\n",
            "To: /content/uieb_dataset.tar.gz\n",
            "100%|██████████| 1.52G/1.52G [00:17<00:00, 87.7MB/s]\n"
          ]
        }
      ],
      "source": [
        "from beneaththewater.utils.data_preparation import get_uieb_data, setup_colab_env\n",
        "get_uieb_data()\n",
        "setup_colab_env()\n",
        "!find . -type f -name '._*' -delete"
      ]
    },
    {
      "cell_type": "code",
      "source": [
        "from beneaththewater.configs.constants import path_to_data\n",
        "from beneaththewater.utils.data_preparation import prepare_the_dataframe, prepare_challenge_dataframe\n",
        "uieb_df = prepare_the_dataframe(path_to_data)\n",
        "uieb_challenging_df = prepare_challenge_dataframe(path_to_data)"
      ],
      "metadata": {
        "colab": {
          "base_uri": "https://localhost:8080/"
        },
        "id": "rMn4M_UiMW-S",
        "outputId": "ce379b88-bb69-4b23-f2e8-91ac153ef5fe"
      },
      "execution_count": 31,
      "outputs": [
        {
          "output_type": "stream",
          "name": "stdout",
          "text": [
            "Number of files in the first directory:  890\n",
            "Number of files in the second directory:  890\n",
            "Number of common files:  890\n",
            "Example of common files:  ['356_img_.png', '315_img_.png', '715_img_.png', '563.png', '467_img_.png']\n",
            "Number of files in the directory:  60\n",
            "Example of files:  ['15735.png', '3051.png', '10226.png', '3279.png', '12753.png']\n"
          ]
        }
      ]
    },
    {
      "cell_type": "code",
      "execution_count": 8,
      "metadata": {
        "id": "yZI54qurAlVo"
      },
      "outputs": [],
      "source": [
        "import torch\n",
        "import clip\n",
        "from PIL import Image"
      ]
    },
    {
      "cell_type": "code",
      "execution_count": 9,
      "metadata": {
        "id": "h2qGr_GlAlVp",
        "colab": {
          "base_uri": "https://localhost:8080/"
        },
        "outputId": "5818e5ee-8c72-451e-c699-dcc68455816a"
      },
      "outputs": [
        {
          "output_type": "stream",
          "name": "stderr",
          "text": [
            "100%|███████████████████████████████████████| 338M/338M [00:03<00:00, 96.5MiB/s]\n"
          ]
        }
      ],
      "source": [
        "device = \"cuda\" if torch.cuda.is_available() else \"cpu\"\n",
        "model, preprocess = clip.load(\"ViT-B/32\", device=device)"
      ]
    },
    {
      "cell_type": "code",
      "source": [
        "from beneaththewater.configs.constants import select_contrastive_pairs\n",
        "pairs = select_contrastive_pairs(indices=None)\n",
        "print(f\"Current Pairs are: \", pairs)"
      ],
      "metadata": {
        "colab": {
          "base_uri": "https://localhost:8080/"
        },
        "id": "qv5yAonWEdjA",
        "outputId": "f062181f-83c4-4ac2-fb2a-2daa364a4150"
      },
      "execution_count": 14,
      "outputs": [
        {
          "output_type": "stream",
          "name": "stdout",
          "text": [
            "Current Pairs are:  [['Accurate Color Representation', 'Blue/Green Color Cast']]\n"
          ]
        }
      ]
    },
    {
      "cell_type": "code",
      "source": [
        "temp_raw = uieb_df.iloc[0][\"raw\"]"
      ],
      "metadata": {
        "id": "co3sNR1hOuJe"
      },
      "execution_count": 34,
      "outputs": []
    },
    {
      "cell_type": "code",
      "execution_count": 35,
      "metadata": {
        "id": "adT4o6cYAlVp",
        "colab": {
          "base_uri": "https://localhost:8080/"
        },
        "outputId": "6ea86558-2b8b-43db-bb92-4d338c64b561"
      },
      "outputs": [
        {
          "output_type": "stream",
          "name": "stdout",
          "text": [
            "Label probs: [[0.12003732 0.87996274]]\n"
          ]
        }
      ],
      "source": [
        "image = preprocess(Image.open(temp_raw)).unsqueeze(0).to(device)\n",
        "text = clip.tokenize(pairs[0]).to(device)\n",
        "\n",
        "with torch.no_grad():\n",
        "    image_features = model.encode_image(image)\n",
        "    text_features = model.encode_text(text)\n",
        "\n",
        "    logits_per_image, logits_per_text = model(image, text)\n",
        "    probs = logits_per_image.softmax(dim=-1).cpu().numpy()\n",
        "\n",
        "print(\"Label probs:\", probs)  # prints: [[0.9927937  0.00421068 0.00299572]]"
      ]
    },
    {
      "cell_type": "code",
      "source": [],
      "metadata": {
        "id": "kZmfEYp-DHv-"
      },
      "execution_count": null,
      "outputs": []
    }
  ],
  "metadata": {
    "language_info": {
      "name": "python"
    },
    "colab": {
      "provenance": []
    },
    "kernelspec": {
      "name": "python3",
      "display_name": "Python 3"
    }
  },
  "nbformat": 4,
  "nbformat_minor": 0
}